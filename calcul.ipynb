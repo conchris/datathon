{
 "cells": [
  {
   "cell_type": "markdown",
   "metadata": {},
   "source": [
    "### Scenario 1 : \n",
    "\n",
    "Le senior va en Ehpad sans rien faire de son bien \n",
    "Epargne et retraite finance l’EHPAD\n",
    "Charge continue\n",
    "Dégradation du bien\n",
    "Taxe  \n"
   ]
  },
  {
   "cell_type": "code",
   "execution_count": 1,
   "metadata": {},
   "outputs": [],
   "source": [
    "def scenario_1(\n",
    "        prix_immobilier, \n",
    "        charges_annuelles, epargne, retraite, \n",
    "        cout_ehpad\n",
    "    ):\n",
    "\n",
    "    patrimoine_immo = prix_immobilier\n",
    "\n",
    "    patrimoine_net = epargne + patrimoine_immo\n",
    "    \n",
    "    bilan_mensuel = retraite - cout_ehpad / 12 - charges_annuelles / 12\n",
    "    \n",
    "    return patrimoine_net, bilan_mensuel"
   ]
  },
  {
   "cell_type": "code",
   "execution_count": 2,
   "metadata": {},
   "outputs": [
    {
     "data": {
      "text/plain": [
       "(747380, -500.0)"
      ]
     },
     "execution_count": 2,
     "metadata": {},
     "output_type": "execute_result"
    }
   ],
   "source": [
    "prix_moyen_m2 = 10034\n",
    "\n",
    "prix_immobilier = 70 * prix_moyen_m2\n",
    "\n",
    "charges_annuelles = 6000\n",
    "\n",
    "epargne = 45000\n",
    "\n",
    "retraite = 0\n",
    "\n",
    "cout_ehpad = 0\n",
    "\n",
    "ligne_1 = scenario_1(\n",
    "    prix_immobilier,\n",
    "    charges_annuelles,\n",
    "    epargne,\n",
    "    retraite,\n",
    "    cout_ehpad\n",
    "\n",
    ")\n",
    "\n",
    "ligne_1"
   ]
  },
  {
   "cell_type": "markdown",
   "metadata": {},
   "source": [
    "### Scenario : 2\n",
    "Le senior va vendre son bien \n",
    "Epargne et retraite finance l’EHPAD\n",
    "Réduction des charges\n"
   ]
  },
  {
   "cell_type": "code",
   "execution_count": 3,
   "metadata": {},
   "outputs": [],
   "source": [
    "def scenario_2(\n",
    "        esperance_vie, \n",
    "        prix_vente, \n",
    "        taux_rendement, \n",
    "        epargne, \n",
    "        retraite, \n",
    "        cout_ehpad\n",
    "    ):\n",
    "    \n",
    "    rendement_placement = prix_vente * (1 + taux_rendement) ** esperance_vie\n",
    "\n",
    "    patrimoine_net = epargne + rendement_placement\n",
    "\n",
    "    bilan_mensuel = retraite - cout_ehpad / 12\n",
    "    \n",
    "    return patrimoine_net, bilan_mensuel"
   ]
  },
  {
   "cell_type": "code",
   "execution_count": 4,
   "metadata": {},
   "outputs": [
    {
     "data": {
      "text/plain": [
       "(759928.6190216062, 0.0)"
      ]
     },
     "execution_count": 4,
     "metadata": {},
     "output_type": "execute_result"
    }
   ],
   "source": [
    "esperance_vie = (23.69 + 19.73) / 2\n",
    "\n",
    "prix_achat = 350000\n",
    "\n",
    "prix_location = 2380\n",
    "\n",
    "taux_rendement = (prix_location * 12) / (prix_achat * 100)\n",
    "\n",
    "prix_immobilier = 70 * prix_moyen_m2\n",
    "\n",
    "ligne_1_scene_2 = scenario_2(\n",
    "    esperance_vie,\n",
    "    prix_immobilier,\n",
    "    taux_rendement,\n",
    "    epargne,\n",
    "    retraite,\n",
    "    cout_ehpad\n",
    ")\n",
    "\n",
    "ligne_1_scene_2"
   ]
  },
  {
   "cell_type": "markdown",
   "metadata": {},
   "source": [
    "### Scenario 3:\n",
    "Le senior va louer son bien \n",
    "Epargne ou un prêt finance la rénovation\n",
    "La retraite et le loyer finance l’EHPAD\n"
   ]
  },
  {
   "cell_type": "code",
   "execution_count": 5,
   "metadata": {},
   "outputs": [],
   "source": [
    "def scenario_3(\n",
    "        esperance_vie, \n",
    "        prix_location, \n",
    "        cout_renovation, \n",
    "        epargne, \n",
    "        retraite, \n",
    "        cout_ehpad\n",
    "    ):\n",
    "\n",
    "    revenus_locatifs = prix_location * 12 * esperance_vie\n",
    "\n",
    "    patrimoine_net = epargne - cout_renovation + revenus_locatifs\n",
    "\n",
    "    bilan_mensuel = retraite + prix_location - cout_ehpad / 12\n",
    "    \n",
    "    return patrimoine_net, bilan_mensuel"
   ]
  },
  {
   "cell_type": "code",
   "execution_count": 6,
   "metadata": {},
   "outputs": [
    {
     "data": {
      "text/plain": [
       "(626537.6, 2380.0)"
      ]
     },
     "execution_count": 6,
     "metadata": {},
     "output_type": "execute_result"
    }
   ],
   "source": [
    "cout_renovation = 550 * 70\n",
    "\n",
    "ligne_1_scene_3 = scenario_3(\n",
    "    esperance_vie,\n",
    "    prix_location,\n",
    "    cout_renovation,\n",
    "    epargne,\n",
    "    retraite,\n",
    "    cout_ehpad\n",
    ")\n",
    "\n",
    "ligne_1_scene_3"
   ]
  },
  {
   "cell_type": "markdown",
   "metadata": {},
   "source": [
    "### Resultat"
   ]
  },
  {
   "cell_type": "code",
   "execution_count": 7,
   "metadata": {},
   "outputs": [],
   "source": [
    "def comparer_scenarios(\n",
    "        patrimoine_net_1, \n",
    "        bilan_mensuel_1, \n",
    "        patrimoine_net_2, \n",
    "        bilan_mensuel_2, \n",
    "        patrimoine_net_3, \n",
    "        bilan_mensuel_3\n",
    "    ):\n",
    "\n",
    "    scores = {\n",
    "        \"Scénario 1\": patrimoine_net_1 + bilan_mensuel_1 * 12,\n",
    "        \"Scénario 2\": patrimoine_net_2 + bilan_mensuel_2 * 12,\n",
    "        \"Scénario 3\": patrimoine_net_3 + bilan_mensuel_3 * 12,\n",
    "    }\n",
    "\n",
    "    meilleur_scenario = max(scores, key=scores.get)\n",
    "    \n",
    "    return meilleur_scenario"
   ]
  },
  {
   "cell_type": "code",
   "execution_count": 8,
   "metadata": {},
   "outputs": [
    {
     "data": {
      "text/plain": [
       "'Scénario 2'"
      ]
     },
     "execution_count": 8,
     "metadata": {},
     "output_type": "execute_result"
    }
   ],
   "source": [
    "comparer_scenarios(\n",
    "    ligne_1[0],\n",
    "    ligne_1[1],\n",
    "    ligne_1_scene_2[0],\n",
    "    ligne_1_scene_2[1],\n",
    "    ligne_1_scene_3[0],\n",
    "    ligne_1_scene_3[1],\n",
    ")"
   ]
  }
 ],
 "metadata": {
  "kernelspec": {
   "display_name": "Python 3",
   "language": "python",
   "name": "python3"
  },
  "language_info": {
   "codemirror_mode": {
    "name": "ipython",
    "version": 3
   },
   "file_extension": ".py",
   "mimetype": "text/x-python",
   "name": "python",
   "nbconvert_exporter": "python",
   "pygments_lexer": "ipython3",
   "version": "3.12.4"
  }
 },
 "nbformat": 4,
 "nbformat_minor": 2
}
